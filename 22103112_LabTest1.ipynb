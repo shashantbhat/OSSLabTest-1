{
 "cells": [
  {
   "cell_type": "code",
   "execution_count": null,
   "id": "5a0a8979",
   "metadata": {},
   "outputs": [],
   "source": []
  },
  {
   "cell_type": "code",
   "execution_count": null,
   "id": "2f7ad9f8",
   "metadata": {},
   "outputs": [],
   "source": []
  },
  {
   "cell_type": "code",
   "execution_count": null,
   "id": "2fcce523",
   "metadata": {},
   "outputs": [],
   "source": []
  },
  {
   "cell_type": "code",
   "execution_count": null,
   "id": "b6c0aa52",
   "metadata": {},
   "outputs": [],
   "source": []
  },
  {
   "cell_type": "code",
   "execution_count": null,
   "id": "6f671521",
   "metadata": {},
   "outputs": [],
   "source": []
  },
  {
   "cell_type": "code",
   "execution_count": null,
   "id": "f15fd06a",
   "metadata": {},
   "outputs": [],
   "source": []
  },
  {
   "cell_type": "code",
   "execution_count": null,
   "id": "32c9d8d7",
   "metadata": {},
   "outputs": [],
   "source": []
  },
  {
   "cell_type": "code",
   "execution_count": null,
   "id": "cc9df223",
   "metadata": {},
   "outputs": [],
   "source": []
  },
  {
   "cell_type": "code",
   "execution_count": 104,
   "id": "2f4ce0d4",
   "metadata": {},
   "outputs": [],
   "source": [
    "import numpy as np\n",
    "\n",
    "flight = [\n",
    "    {'no': 1, 'dept_st': '10D', 'arr_st': '20A', 'dept_time': '10.00am', 'seat_avail': [{'business': 10, 'eco': 5}]},\n",
    "    {'no': 2, 'dept_st': '11D', 'arr_st': '21A', 'dept_time': '11.00am', 'seat_avail': [{'business': 15, 'eco': 12}]},\n",
    "    {'no': 3, 'dept_st': '15D', 'arr_st': '25A', 'dept_time': '3.00pm', 'seat_avail': [{'business': 10, 'eco': 5}]}\n",
    "]\n",
    "\n",
    "passengers = [\n",
    "    {'pid': 1, 'name': 'shash', 'reservation': [{'fno': 1, 'class': 'business', 'seat': '2B'}]},\n",
    "    {'pid': 2, 'name': 'yashu', 'reservation': [{'fno': 2, 'class': 'business', 'seat': '3B'}]},\n",
    "    {'pid': 3, 'name': 'sheero', 'reservation': [{'fno': 1, 'class': 'business', 'seat': '1B'}]} \n",
    "]\n",
    "\n",
    "\n",
    "\n",
    "flight_data = np.array([(f['no'], f['dept_st'], f['arr_st'], f['dept_time'], \n",
    "                         f['seat_avail'][0]['business'], f['seat_avail'][0]['eco']) \n",
    "                        for f in flight], \n",
    "                       dtype=[('fno', int), ('dept_st', 'U5'), ('arr_st', 'U5'), \n",
    "                              ('dept_time', 'U10'), ('business', int), ('eco', int)])\n",
    "\n",
    "passenger_data = np.array([(p['pid'], p['name'], \n",
    "                            p['reservation'][0]['fno'], \n",
    "                            p['reservation'][0]['class'], \n",
    "                            p['reservation'][0]['seat']) \n",
    "                           for p in passengers], \n",
    "                          dtype=[('pid', int), ('name', 'U10'), ('fno', int), \n",
    "                                 ('class', 'U10'), ('seat', 'U5')])\n"
   ]
  },
  {
   "cell_type": "code",
   "execution_count": 105,
   "id": "0ca87fe8",
   "metadata": {},
   "outputs": [
    {
     "name": "stdout",
     "output_type": "stream",
     "text": [
      "Reservations for passenger 1: [(1, 'business', '2B')]\n",
      "Before update:\n",
      "[(1, '10D', '20A', '10.00am', 10,  5) (2, '11D', '21A', '11.00am', 15, 12)\n",
      " (3, '15D', '25A', '3.00pm', 10,  5)]\n",
      "After update:\n",
      "[(1, '10D', '20A', '10.00am',  9,  5) (2, '11D', '21A', '11.00am', 15, 12)\n",
      " (3, '15D', '25A', '3.00pm', 10,  5)]\n",
      "Max and min routes: ('11D to 21A', '10D to 20A')\n",
      "Fully booked flights: []\n"
     ]
    }
   ],
   "source": [
    "\n",
    "\n",
    "def find_reservations(passenger_id):\n",
    "    passenger = passenger_data[passenger_data['pid'] == passenger_id]\n",
    "    if passenger.size > 0:\n",
    "        return [(passenger['fno'][0], passenger['class'][0], passenger['seat'][0])]\n",
    "    return []\n",
    "\n",
    "def update_seat_availability(flight_number, seat_class, seats_to_remove):\n",
    "    flight_index = np.where(flight_data['fno'] == flight_number)[0]\n",
    "    if flight_index.size > 0:\n",
    "        if seat_class == 'business':\n",
    "            flight_data['business'][flight_index] -= seats_to_remove\n",
    "        elif seat_class == 'eco':\n",
    "            flight_data['eco'][flight_index] -= seats_to_remove\n",
    "\n",
    "def find_max_min_routes():\n",
    "    total_seats = flight_data['business'] + flight_data['eco']\n",
    "    max_route = flight_data[np.argmax(total_seats)]\n",
    "    min_route = flight_data[np.argmin(total_seats)]\n",
    "    return (f\"{max_route['dept_st']} to {max_route['arr_st']}\", \n",
    "            f\"{min_route['dept_st']} to {min_route['arr_st']}\")\n",
    "\n",
    "def find_fully_booked_flights():\n",
    "    return flight_data[(flight_data['business'] == 0) & \n",
    "                       (flight_data['eco'] == 0)]['fno']\n",
    "\n",
    "print(\"Reservations for passenger 1:\", find_reservations(1))\n",
    "print(\"Before update:\")\n",
    "print(flight_data)\n",
    "\n",
    "update_seat_availability(1, 'business', 1)\n",
    "print(\"After update:\")\n",
    "print(flight_data)\n",
    "\n",
    "print(\"Max and min routes:\", find_max_min_routes())\n",
    "print(\"Fully booked flights:\", find_fully_booked_flights())"
   ]
  },
  {
   "cell_type": "code",
   "execution_count": 101,
   "id": "fed87817",
   "metadata": {},
   "outputs": [
    {
     "data": {
      "text/plain": [
       "[(1, 'business', '2B')]"
      ]
     },
     "execution_count": 101,
     "metadata": {},
     "output_type": "execute_result"
    }
   ],
   "source": [
    "find_reservations(1)"
   ]
  },
  {
   "cell_type": "code",
   "execution_count": null,
   "id": "1005f48c",
   "metadata": {},
   "outputs": [],
   "source": []
  },
  {
   "cell_type": "code",
   "execution_count": null,
   "id": "35ef8a85",
   "metadata": {},
   "outputs": [],
   "source": []
  },
  {
   "cell_type": "code",
   "execution_count": null,
   "id": "6a71082f",
   "metadata": {},
   "outputs": [],
   "source": []
  },
  {
   "cell_type": "code",
   "execution_count": null,
   "id": "74af2088",
   "metadata": {},
   "outputs": [],
   "source": []
  },
  {
   "cell_type": "code",
   "execution_count": null,
   "id": "03f6d4f1",
   "metadata": {},
   "outputs": [],
   "source": []
  },
  {
   "cell_type": "code",
   "execution_count": null,
   "id": "18dfa689",
   "metadata": {},
   "outputs": [],
   "source": []
  },
  {
   "cell_type": "code",
   "execution_count": null,
   "id": "48c2ff1b",
   "metadata": {},
   "outputs": [],
   "source": []
  },
  {
   "cell_type": "code",
   "execution_count": null,
   "id": "72c59394",
   "metadata": {},
   "outputs": [],
   "source": []
  },
  {
   "cell_type": "code",
   "execution_count": null,
   "id": "00d0ece2",
   "metadata": {},
   "outputs": [],
   "source": []
  },
  {
   "cell_type": "code",
   "execution_count": null,
   "id": "feb5bbb6",
   "metadata": {},
   "outputs": [],
   "source": []
  },
  {
   "cell_type": "code",
   "execution_count": null,
   "id": "547f8867",
   "metadata": {},
   "outputs": [],
   "source": []
  },
  {
   "cell_type": "code",
   "execution_count": null,
   "id": "705ce707",
   "metadata": {},
   "outputs": [],
   "source": []
  },
  {
   "cell_type": "code",
   "execution_count": null,
   "id": "dfb5b27e",
   "metadata": {},
   "outputs": [],
   "source": [
    "\n"
   ]
  },
  {
   "cell_type": "code",
   "execution_count": null,
   "id": "fa7f5fd6",
   "metadata": {},
   "outputs": [],
   "source": []
  }
 ],
 "metadata": {
  "kernelspec": {
   "display_name": "Python 3 (ipykernel)",
   "language": "python",
   "name": "python3"
  },
  "language_info": {
   "codemirror_mode": {
    "name": "ipython",
    "version": 3
   },
   "file_extension": ".py",
   "mimetype": "text/x-python",
   "name": "python",
   "nbconvert_exporter": "python",
   "pygments_lexer": "ipython3",
   "version": "3.11.5"
  }
 },
 "nbformat": 4,
 "nbformat_minor": 5
}
